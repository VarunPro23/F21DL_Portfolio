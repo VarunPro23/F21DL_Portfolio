{
 "cells": [
  {
   "cell_type": "markdown",
   "id": "7445cdf7",
   "metadata": {},
   "source": [
    "## First dataset: https://www.kaggle.com/datasets/rashikrahmanpritom/heart-attack-analysis-prediction-dataset\n",
    "    This dataset contains records that investigates heart attacks amonsgt patients of age between 29 and 77.\n",
    "    Pros:  \n",
    "    -Records with binary values exists\n",
    "    -Large number of features      \n",
    "    Cons: \n",
    "    -Few features have values within ranges\n",
    "    \n",
    "## Second dataset: https://www.kaggle.com/datasets/adityakadiwal/water-potability\n",
    "    This dataset contains water quality metrics for 3276 different water bodies.,\n",
    "     Pros:  \n",
    "     -Large number of records\n",
    "     -All numerical values \n",
    "     -Output is binary only \n",
    "     Cons:\n",
    "     -Multiple null values\n",
    "   \n",
    "## Third dataset: https://www.kaggle.com/datasets/sartajbhuvaji/brain-tumor-classification-mri\n",
    "    This dataset contains images to classify brain tumor into 4 categories.\n",
    "    Pros:\n",
    "    -Its an image dataset, so CNN is to be used.\n",
    "    -High accuracy of result\n",
    "    Cons:\n",
    "    -Large number of images to process\n",
    "    "
   ]
  },
  {
   "cell_type": "code",
   "execution_count": null,
   "id": "170768d3",
   "metadata": {},
   "outputs": [],
   "source": []
  }
 ],
 "metadata": {
  "kernelspec": {
   "display_name": "Python 3 (ipykernel)",
   "language": "python",
   "name": "python3"
  },
  "language_info": {
   "codemirror_mode": {
    "name": "ipython",
    "version": 3
   },
   "file_extension": ".py",
   "mimetype": "text/x-python",
   "name": "python",
   "nbconvert_exporter": "python",
   "pygments_lexer": "ipython3",
   "version": "3.9.12"
  }
 },
 "nbformat": 4,
 "nbformat_minor": 5
}
