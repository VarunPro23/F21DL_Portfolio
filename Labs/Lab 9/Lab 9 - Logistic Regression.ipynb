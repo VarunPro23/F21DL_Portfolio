{
 "cells": [
  {
   "cell_type": "code",
   "execution_count": 11,
   "id": "6bd7ccd1",
   "metadata": {},
   "outputs": [],
   "source": [
    "from sklearn import datasets\n",
    "# Python ≥3.5 is required\n",
    "import sys\n",
    "assert sys.version_info >= (3, 5)\n",
    "\n",
    "# Scikit-Learn ≥0.20 is \n",
    "import sklearn\n",
    "assert sklearn.__version__ >= \"0.20\"\n",
    "\n",
    "# Common imports\n",
    "import numpy as np\n",
    "import pandas as pd\n",
    "\n",
    "from sklearn.metrics import mean_squared_error\n",
    "from sklearn.model_selection import train_test_split"
   ]
  },
  {
   "cell_type": "code",
   "execution_count": 4,
   "id": "b49b2e5e",
   "metadata": {},
   "outputs": [],
   "source": [
    "address = '/Users/varun/Desktop/F21DL_Portfolio-main/Datasets/heart.csv'\n",
    "data = pd.read_csv(address)\n",
    "labels = data[[\"output\"]]"
   ]
  },
  {
   "cell_type": "code",
   "execution_count": 19,
   "id": "413516ad",
   "metadata": {},
   "outputs": [
    {
     "name": "stdout",
     "output_type": "stream",
     "text": [
      "MSE on training set: 0.11570247933884298\n",
      "MSE on test set: 0.2032967032967033\n"
     ]
    },
    {
     "name": "stderr",
     "output_type": "stream",
     "text": [
      "C:\\Users\\varun\\anaconda3\\lib\\site-packages\\sklearn\\linear_model\\_logistic.py:814: ConvergenceWarning: lbfgs failed to converge (status=1):\n",
      "STOP: TOTAL NO. of ITERATIONS REACHED LIMIT.\n",
      "\n",
      "Increase the number of iterations (max_iter) or scale the data as shown in:\n",
      "    https://scikit-learn.org/stable/modules/preprocessing.html\n",
      "Please also refer to the documentation for alternative solver options:\n",
      "    https://scikit-learn.org/stable/modules/linear_model.html#logistic-regression\n",
      "  n_iter_i = _check_optimize_result(\n"
     ]
    }
   ],
   "source": [
    "from sklearn.linear_model import LogisticRegression\n",
    "\n",
    "X_train, X_test, y_train, y_test = train_test_split(data.drop(['output'], axis=1),\n",
    "                                                            data['output'], test_size=0.6, random_state = 100)\n",
    "\n",
    "LogReg = LogisticRegression()\n",
    "LogReg.fit(X_train, y_train)\n",
    "\n",
    "y_pred = LogReg.predict(X_train)\n",
    "\n",
    "mse_train = mean_squared_error(y_train,y_pred)\n",
    "print(\"MSE on training set: {0}\".format(mse_train))\n",
    "\n",
    "y_pred = LogReg.predict(X_test)\n",
    "\n",
    "mse_test = mean_squared_error(y_test,y_pred)\n",
    "print(\"MSE on test set: {0}\".format(mse_test))"
   ]
  },
  {
   "cell_type": "code",
   "execution_count": 15,
   "id": "2a004dcf",
   "metadata": {},
   "outputs": [
    {
     "name": "stdout",
     "output_type": "stream",
     "text": [
      "MSE on training set: 0.4462809917355372\n",
      "MSE on test set: 0.3956043956043956\n"
     ]
    }
   ],
   "source": [
    "from sklearn.linear_model import LinearRegression\n",
    "from sklearn.linear_model import SGDClassifier\n",
    "\n",
    "X_train, X_test, y_train, y_test = train_test_split(data.drop(['output'], axis=1),\n",
    "                                                            data['output'], test_size=0.6, random_state = 100)\n",
    "\n",
    "SGD_clas = SGDClassifier(random_state = 0)\n",
    "SGD_clas.fit(X_train,y_train)\n",
    "\n",
    "y_pred = SGD_clas.predict(X_train)\n",
    "mse_train = mean_squared_error(y_train,y_pred)\n",
    "print(\"MSE on training set: {0}\".format(mse_train))\n",
    "\n",
    "y_pred = SGD_clas.predict(X_test)\n",
    "mse_test = mean_squared_error(y_test,y_pred)\n",
    "print(\"MSE on test set: {0}\".format(mse_test))"
   ]
  },
  {
   "cell_type": "code",
   "execution_count": null,
   "id": "1c9980cd",
   "metadata": {},
   "outputs": [],
   "source": []
  }
 ],
 "metadata": {
  "kernelspec": {
   "display_name": "Python 3 (ipykernel)",
   "language": "python",
   "name": "python3"
  },
  "language_info": {
   "codemirror_mode": {
    "name": "ipython",
    "version": 3
   },
   "file_extension": ".py",
   "mimetype": "text/x-python",
   "name": "python",
   "nbconvert_exporter": "python",
   "pygments_lexer": "ipython3",
   "version": "3.9.12"
  }
 },
 "nbformat": 4,
 "nbformat_minor": 5
}
